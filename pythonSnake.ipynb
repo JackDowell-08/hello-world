{
 "cells": [
  {
   "cell_type": "markdown",
   "id": "32747572-9545-4f51-9426-cb99d82553d1",
   "metadata": {},
   "source": [
    "There's literally nothing in this file"
   ]
  }
 ],
 "metadata": {
  "kernelspec": {
   "display_name": "Python 3 (ipykernel)",
   "language": "python",
   "name": "python3"
  },
  "language_info": {
   "codemirror_mode": {
    "name": "ipython",
    "version": 3
   },
   "file_extension": ".py",
   "mimetype": "text/x-python",
   "name": "python",
   "nbconvert_exporter": "python",
   "pygments_lexer": "ipython3",
   "version": "3.12.4"
  }
 },
 "nbformat": 4,
 "nbformat_minor": 5
}
